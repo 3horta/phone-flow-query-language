{
 "cells": [
  {
   "cell_type": "code",
   "execution_count": 78,
   "metadata": {},
   "outputs": [],
   "source": [
    "import lexer as lx"
   ]
  },
  {
   "cell_type": "code",
   "execution_count": 83,
   "metadata": {},
   "outputs": [
    {
     "name": "stdout",
     "output_type": "stream",
     "text": [
      "LexToken(ID,'a',153,1)\n",
      "LexToken(EQUAL,'=',153,2)\n",
      "LexToken(TIME,'time',153,4)\n",
      "LexToken(LPAREN,'(',153,8)\n",
      "LexToken(DATE,'1-12-3988',153,9)\n",
      "LexToken(COMMA,',',153,18)\n",
      "LexToken(DATE,'7-8-9878',153,20)\n",
      "LexToken(RPAREN,')',153,28)\n"
     ]
    }
   ],
   "source": [
    "data = '''\n",
    "a= time(1-12-3988, 7-8-9878)\n",
    "'''\n",
    "lx.lexer.input(data)\n",
    "\n",
    "for tok in lx.lexer:\n",
    "    print(tok)"
   ]
  },
  {
   "cell_type": "code",
   "execution_count": 84,
   "metadata": {},
   "outputs": [
    {
     "name": "stdout",
     "output_type": "stream",
     "text": [
      "LexToken(TIME,'time',155,1)\n",
      "LexToken(LPAREN,'(',155,6)\n",
      "Illegal character '1'\n",
      "Illegal character '2'\n",
      "Illegal character '-'\n",
      "Illegal character '3'\n",
      "Illegal character '9'\n",
      "Illegal character '8'\n",
      "Illegal character '8'\n",
      "LexToken(COMMA,',',155,14)\n",
      "LexToken(DATE,'2-3-9878',155,16)\n",
      "LexToken(RPAREN,')',155,24)\n"
     ]
    }
   ],
   "source": [
    "# No reconoce este formato de fecha\n",
    "data = '''\n",
    "time (12-3988, 2-3-9878)\n",
    "'''\n",
    "lx.lexer.input(data)\n",
    "for tok in lx.lexer:\n",
    "    print(tok)"
   ]
  },
  {
   "cell_type": "code",
   "execution_count": 69,
   "metadata": {},
   "outputs": [
    {
     "name": "stdout",
     "output_type": "stream",
     "text": [
      "LexToken(LOCATION,'location',125,44)\n",
      "LexToken(LPAREN,'(',125,52)\n",
      "LexToken(STRING,'\"Habana\"',125,53)\n",
      "LexToken(RPAREN,')',125,61)\n",
      "LexToken(LOCATION,'location',126,63)\n",
      "LexToken(LPAREN,'(',126,71)\n",
      "LexToken(ID,'Habana',126,72)\n",
      "LexToken(RPAREN,')',126,78)\n",
      "LexToken(LOCATION,'location',127,80)\n",
      "LexToken(LPAREN,'(',127,88)\n",
      "LexToken(LOCATION,'location',127,89)\n",
      "LexToken(RPAREN,')',127,97)\n"
     ]
    }
   ],
   "source": [
    "data = '''\n",
    "# location(\"Habana\") esto es un comentario\n",
    "location(\"Habana\")\n",
    "location(Habana)\n",
    "location(location)\n",
    "'''\n",
    "lx.lexer.input(data)\n",
    "for tok in lx.lexer:\n",
    "    print(tok)"
   ]
  },
  {
   "cell_type": "code",
   "execution_count": 70,
   "metadata": {},
   "outputs": [
    {
     "name": "stdout",
     "output_type": "stream",
     "text": [
      "LexToken(ID,'a',129,1)\n",
      "LexToken(EQUAL,'=',129,2)\n",
      "LexToken(LOCATION,'location',129,3)\n",
      "LexToken(LPAREN,'(',129,11)\n",
      "LexToken(STRING,'\"Habana\"',129,12)\n",
      "LexToken(RPAREN,')',129,20)\n",
      "LexToken(FILTER,'filter',130,22)\n",
      "LexToken(ID,'registro',130,29)\n",
      "LexToken(BY,'by',130,38)\n",
      "LexToken(LOCATION,'location',130,41)\n",
      "LexToken(LPAREN,'(',130,49)\n",
      "LexToken(STRING,'\"Habana\"',130,50)\n",
      "LexToken(RPAREN,')',130,58)\n",
      "LexToken(COMMA,',',130,59)\n",
      "LexToken(LOCATION,'location',130,61)\n",
      "LexToken(LPAREN,'(',130,70)\n",
      "LexToken(STRING,'\"Cienfuegos\"',130,71)\n",
      "LexToken(RPAREN,')',130,83)\n",
      "LexToken(FILTER,'filter',131,85)\n",
      "LexToken(ID,'registro',131,92)\n",
      "LexToken(BY,'by',131,101)\n",
      "LexToken(ID,'a',131,104)\n"
     ]
    }
   ],
   "source": [
    "data = '''\n",
    "a=location(\"Habana\")\n",
    "filter registro by location(\"Habana\"), location (\"Cienfuegos\")\n",
    "filter registro by a \n",
    "'''\n",
    "lx.lexer.input(data)\n",
    "for tok in lx.lexer:\n",
    "    print(tok)"
   ]
  },
  {
   "cell_type": "code",
   "execution_count": 77,
   "metadata": {},
   "outputs": [
    {
     "name": "stdout",
     "output_type": "stream",
     "text": [
      "LexToken(FILTER,'filter',143,1)\n",
      "LexToken(ALL,'ALL',143,8)\n",
      "LexToken(BY,'by',143,12)\n",
      "LexToken(TIME,'time',143,15)\n",
      "LexToken(LPAREN,'(',143,19)\n",
      "LexToken(DATE,'1-1-2022',143,20)\n",
      "LexToken(COMMA,',',143,28)\n",
      "LexToken(DATE,'3-5-2022',143,30)\n",
      "LexToken(RPAREN,')',143,38)\n"
     ]
    }
   ],
   "source": [
    "data = '''\n",
    "filter ALL by time(1-1-2022, 3-5-2022)\n",
    "'''\n",
    "lx.lexer.input(data)\n",
    "for tok in lx.lexer:\n",
    "    print(tok)"
   ]
  },
  {
   "cell_type": "code",
   "execution_count": 72,
   "metadata": {},
   "outputs": [
    {
     "name": "stdout",
     "output_type": "stream",
     "text": [
      "LexToken(ID,'a',135,1)\n",
      "LexToken(PLUS,'+',135,3)\n",
      "LexToken(ID,'b',135,5)\n",
      "LexToken(DIFFER,'\\\\',135,7)\n",
      "LexToken(STRING,'\"c\"',135,9)\n",
      "LexToken(MULTIPLY,'*',135,13)\n",
      "LexToken(ID,'pi',135,15)\n"
     ]
    }
   ],
   "source": [
    "data = '''\n",
    "a + b \\ \"c\" * pi\n",
    "'''\n",
    "lx.lexer.input(data)\n",
    "for tok in lx.lexer:\n",
    "    print(tok)"
   ]
  }
 ],
 "metadata": {
  "kernelspec": {
   "display_name": "Python 3.10.7 64-bit",
   "language": "python",
   "name": "python3"
  },
  "language_info": {
   "codemirror_mode": {
    "name": "ipython",
    "version": 3
   },
   "file_extension": ".py",
   "mimetype": "text/x-python",
   "name": "python",
   "nbconvert_exporter": "python",
   "pygments_lexer": "ipython3",
   "version": "3.10.7"
  },
  "orig_nbformat": 4,
  "vscode": {
   "interpreter": {
    "hash": "aee8b7b246df8f9039afb4144a1f6fd8d2ca17a180786b69acc140d282b71a49"
   }
  }
 },
 "nbformat": 4,
 "nbformat_minor": 2
}
