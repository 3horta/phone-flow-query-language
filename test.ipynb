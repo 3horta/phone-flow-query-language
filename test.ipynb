{
 "cells": [
  {
   "cell_type": "code",
   "execution_count": 10,
   "metadata": {},
   "outputs": [],
   "source": [
    "import lexer as lx"
   ]
  },
  {
   "cell_type": "code",
   "execution_count": 11,
   "metadata": {},
   "outputs": [
    {
     "name": "stdout",
     "output_type": "stream",
     "text": [
      "LexToken(ID,'a',29,1)\n",
      "LexToken(EQUAL,'=',29,2)\n",
      "LexToken(TIME,'time',29,4)\n",
      "LexToken(LPAREN,'(',29,8)\n",
      "LexToken(DATE,'1-12-3988',29,9)\n",
      "LexToken(COMMA,',',29,18)\n",
      "LexToken(DATE,'7-8-9878',29,20)\n",
      "LexToken(RPAREN,')',29,28)\n"
     ]
    }
   ],
   "source": [
    "data = '''\n",
    "a= time(1-12-3988, 7-8-9878)\n",
    "'''\n",
    "lx.lexer.input(data)\n",
    "\n",
    "for tok in lx.lexer:\n",
    "    print(tok)"
   ]
  },
  {
   "cell_type": "code",
   "execution_count": 12,
   "metadata": {},
   "outputs": [
    {
     "name": "stdout",
     "output_type": "stream",
     "text": [
      "LexToken(TIME,'time',31,1)\n",
      "LexToken(LPAREN,'(',31,6)\n",
      "LexToken(DATE,'12-3988',31,7)\n",
      "LexToken(COMMA,',',31,14)\n",
      "LexToken(DATE,'2-3-9878',31,16)\n",
      "LexToken(RPAREN,')',31,24)\n"
     ]
    }
   ],
   "source": [
    "# No reconoce este formato de fecha\n",
    "data = '''\n",
    "time (12-3988, 2-3-9878)\n",
    "'''\n",
    "lx.lexer.input(data)\n",
    "for tok in lx.lexer:\n",
    "    print(tok)"
   ]
  },
  {
   "cell_type": "code",
   "execution_count": 13,
   "metadata": {},
   "outputs": [
    {
     "name": "stdout",
     "output_type": "stream",
     "text": [
      "LexToken(LOCATION,'location',34,44)\n",
      "LexToken(LPAREN,'(',34,52)\n",
      "LexToken(STRING,'\"Habana\"',34,53)\n",
      "LexToken(RPAREN,')',34,61)\n",
      "LexToken(LOCATION,'location',35,63)\n",
      "LexToken(LPAREN,'(',35,71)\n",
      "LexToken(ID,'Habana',35,72)\n",
      "LexToken(RPAREN,')',35,78)\n",
      "LexToken(LOCATION,'location',36,80)\n",
      "LexToken(LPAREN,'(',36,88)\n",
      "LexToken(LOCATION,'location',36,89)\n",
      "LexToken(RPAREN,')',36,97)\n"
     ]
    }
   ],
   "source": [
    "data = '''\n",
    "# location(\"Habana\") esto es un comentario\n",
    "location(\"Habana\")\n",
    "location(Habana)\n",
    "location(location)\n",
    "'''\n",
    "lx.lexer.input(data)\n",
    "for tok in lx.lexer:\n",
    "    print(tok)"
   ]
  },
  {
   "cell_type": "code",
   "execution_count": 14,
   "metadata": {},
   "outputs": [
    {
     "name": "stdout",
     "output_type": "stream",
     "text": [
      "LexToken(ID,'a',38,1)\n",
      "LexToken(EQUAL,'=',38,2)\n",
      "LexToken(LOCATION,'location',38,3)\n",
      "LexToken(LPAREN,'(',38,11)\n",
      "LexToken(STRING,'\"Habana\"',38,12)\n",
      "LexToken(RPAREN,')',38,20)\n",
      "LexToken(FILTER,'filter',39,22)\n",
      "LexToken(ID,'registro',39,29)\n",
      "LexToken(BY,'by',39,38)\n",
      "LexToken(LOCATION,'location',39,41)\n",
      "LexToken(LPAREN,'(',39,49)\n",
      "LexToken(STRING,'\"Habana\"',39,50)\n",
      "LexToken(RPAREN,')',39,58)\n",
      "LexToken(COMMA,',',39,59)\n",
      "LexToken(LOCATION,'location',39,61)\n",
      "LexToken(LPAREN,'(',39,70)\n",
      "LexToken(STRING,'\"Cienfuegos\"',39,71)\n",
      "LexToken(RPAREN,')',39,83)\n",
      "LexToken(FILTER,'filter',40,85)\n",
      "LexToken(ID,'registro',40,92)\n",
      "LexToken(BY,'by',40,101)\n",
      "LexToken(ID,'a',40,104)\n"
     ]
    }
   ],
   "source": [
    "data = '''\n",
    "a=location(\"Habana\")\n",
    "filter registro by location(\"Habana\"), location (\"Cienfuegos\")\n",
    "filter registro by a \n",
    "'''\n",
    "lx.lexer.input(data)\n",
    "for tok in lx.lexer:\n",
    "    print(tok)"
   ]
  },
  {
   "cell_type": "code",
   "execution_count": 15,
   "metadata": {},
   "outputs": [
    {
     "name": "stdout",
     "output_type": "stream",
     "text": [
      "LexToken(FILTER,'filter',42,1)\n",
      "LexToken(ALL,'ALL',42,8)\n",
      "LexToken(BY,'by',42,12)\n",
      "LexToken(TIME,'time',42,15)\n",
      "LexToken(LPAREN,'(',42,19)\n",
      "LexToken(DATE,'1-1-2022',42,20)\n",
      "LexToken(COMMA,',',42,28)\n",
      "LexToken(DATE,'3-5-2022',42,30)\n",
      "LexToken(RPAREN,')',42,38)\n"
     ]
    }
   ],
   "source": [
    "data = '''\n",
    "filter ALL by time(1-1-2022, 3-5-2022)\n",
    "'''\n",
    "lx.lexer.input(data)\n",
    "for tok in lx.lexer:\n",
    "    print(tok)"
   ]
  },
  {
   "cell_type": "code",
   "execution_count": 16,
   "metadata": {},
   "outputs": [
    {
     "name": "stdout",
     "output_type": "stream",
     "text": [
      "LexToken(ID,'a',44,1)\n",
      "LexToken(PLUS,'+',44,3)\n",
      "LexToken(ID,'b',44,5)\n",
      "LexToken(DIFFER,'\\\\',44,7)\n",
      "LexToken(STRING,'\"c\"',44,9)\n",
      "LexToken(MULTIPLY,'*',44,13)\n",
      "LexToken(ID,'pi',44,15)\n"
     ]
    }
   ],
   "source": [
    "data = '''\n",
    "a + b \\ \"c\" * pi\n",
    "'''\n",
    "lx.lexer.input(data)\n",
    "for tok in lx.lexer:\n",
    "    print(tok)"
   ]
  },
  {
   "cell_type": "code",
   "execution_count": 17,
   "metadata": {},
   "outputs": [
    {
     "name": "stdout",
     "output_type": "stream",
     "text": [
      "LexToken(GROUP,'group',46,1)\n",
      "LexToken(ID,'A',46,7)\n",
      "LexToken(BY,'by',46,9)\n",
      "LexToken(LBRACE,'{',46,12)\n",
      "LexToken(MUN,'municipalities',46,13)\n",
      "LexToken(RBRACE,'}',46,27)\n",
      "LexToken(COMMA,',',46,28)\n",
      "LexToken(LBRACE,'{',46,30)\n",
      "LexToken(PROV,'provinces',46,31)\n",
      "LexToken(RBRACE,'}',46,40)\n",
      "LexToken(USER,'users',47,42)\n",
      "LexToken(LPAREN,'(',47,47)\n",
      "LexToken(ID,'B',47,48)\n",
      "LexToken(RPAREN,')',47,49)\n",
      "LexToken(COUNT,'count',48,51)\n",
      "LexToken(LPAREN,'(',48,56)\n",
      "LexToken(ID,'C',48,57)\n",
      "LexToken(RPAREN,')',48,58)\n",
      "LexToken(TOWER,'towers',49,60)\n",
      "LexToken(LPAREN,'(',49,66)\n",
      "LexToken(ID,'D',49,67)\n",
      "LexToken(RPAREN,')',49,68)\n"
     ]
    }
   ],
   "source": [
    "data = '''\n",
    "group A by {municipalities}, {provinces}\n",
    "users(B)\n",
    "count(C)\n",
    "towers(D)\n",
    "'''\n",
    "lx.lexer.input(data)\n",
    "for tok in lx.lexer:\n",
    "    print(tok)"
   ]
  },
  {
   "cell_type": "code",
   "execution_count": 18,
   "metadata": {},
   "outputs": [
    {
     "name": "stdout",
     "output_type": "stream",
     "text": [
      "LexToken(FILTER,'filter',50,0)\n",
      "LexToken(ALL,'ALL',50,7)\n",
      "LexToken(BY,'by',50,11)\n",
      "LexToken(TIME,'time',50,14)\n",
      "LexToken(LPAREN,'(',50,18)\n",
      "LexToken(DATE,'1-12-3988',50,19)\n",
      "LexToken(COMMA,',',50,28)\n",
      "LexToken(DATE,'7-8-9878',50,30)\n",
      "LexToken(RPAREN,')',50,38)\n"
     ]
    }
   ],
   "source": [
    "data = '''filter ALL by time(1-12-3988, 7-8-9878)'''\n",
    "lx.lexer.input(data)\n",
    "for tok in lx.lexer:\n",
    "    print(tok)"
   ]
  }
 ],
 "metadata": {
  "kernelspec": {
   "display_name": "Python 3",
   "language": "python",
   "name": "python3"
  },
  "language_info": {
   "codemirror_mode": {
    "name": "ipython",
    "version": 3
   },
   "file_extension": ".py",
   "mimetype": "text/x-python",
   "name": "python",
   "nbconvert_exporter": "python",
   "pygments_lexer": "ipython3",
   "version": "3.9.15"
  },
  "orig_nbformat": 4,
  "vscode": {
   "interpreter": {
    "hash": "ac2eaa0ea0ebeafcc7822e65e46aa9d4f966f30b695406963e145ea4a91cd4fc"
   }
  }
 },
 "nbformat": 4,
 "nbformat_minor": 2
}
