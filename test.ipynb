{
 "cells": [
  {
   "cell_type": "code",
   "execution_count": 1,
   "metadata": {},
   "outputs": [],
   "source": [
    "import lexer as lx"
   ]
  },
  {
   "cell_type": "code",
   "execution_count": 2,
   "metadata": {},
   "outputs": [
    {
     "name": "stdout",
     "output_type": "stream",
     "text": [
      "LexToken(ID,'a',2,1)\n",
      "LexToken(EQUAL,'=',2,2)\n",
      "LexToken(TIME,'time',2,4)\n",
      "LexToken(LPAREN,'(',2,8)\n",
      "LexToken(DATE,'1-12-3988',2,9)\n",
      "LexToken(COMMA,',',2,18)\n",
      "LexToken(DATE,'7-8-9878',2,20)\n",
      "LexToken(RPAREN,')',2,28)\n"
     ]
    }
   ],
   "source": [
    "data = '''\n",
    "a= time(1-12-3988, 7-8-9878)\n",
    "'''\n",
    "lx.lexer.input(data)\n",
    "\n",
    "for tok in lx.lexer:\n",
    "    print(tok)"
   ]
  },
  {
   "cell_type": "code",
   "execution_count": 3,
   "metadata": {},
   "outputs": [
    {
     "name": "stdout",
     "output_type": "stream",
     "text": [
      "LexToken(TIME,'time',4,1)\n",
      "LexToken(LPAREN,'(',4,6)\n",
      "LexToken(DATE,'12-3988',4,7)\n",
      "LexToken(COMMA,',',4,14)\n",
      "LexToken(DATE,'2-3-9878',4,16)\n",
      "LexToken(RPAREN,')',4,24)\n"
     ]
    }
   ],
   "source": [
    "# No reconoce este formato de fecha\n",
    "data = '''\n",
    "time (12-3988, 2-3-9878)\n",
    "'''\n",
    "lx.lexer.input(data)\n",
    "for tok in lx.lexer:\n",
    "    print(tok)"
   ]
  },
  {
   "cell_type": "code",
   "execution_count": 4,
   "metadata": {},
   "outputs": [
    {
     "name": "stdout",
     "output_type": "stream",
     "text": [
      "LexToken(LOCATION,'location',7,44)\n",
      "LexToken(LPAREN,'(',7,52)\n",
      "LexToken(STRING,'\"Habana\"',7,53)\n",
      "LexToken(RPAREN,')',7,61)\n",
      "LexToken(LOCATION,'location',8,63)\n",
      "LexToken(LPAREN,'(',8,71)\n",
      "LexToken(ID,'Habana',8,72)\n",
      "LexToken(RPAREN,')',8,78)\n",
      "LexToken(LOCATION,'location',9,80)\n",
      "LexToken(LPAREN,'(',9,88)\n",
      "LexToken(LOCATION,'location',9,89)\n",
      "LexToken(RPAREN,')',9,97)\n"
     ]
    }
   ],
   "source": [
    "data = '''\n",
    "# location(\"Habana\") esto es un comentario\n",
    "location(\"Habana\")\n",
    "location(Habana)\n",
    "location(location)\n",
    "'''\n",
    "lx.lexer.input(data)\n",
    "for tok in lx.lexer:\n",
    "    print(tok)"
   ]
  },
  {
   "cell_type": "code",
   "execution_count": 5,
   "metadata": {},
   "outputs": [
    {
     "name": "stdout",
     "output_type": "stream",
     "text": [
      "LexToken(ID,'a',11,1)\n",
      "LexToken(EQUAL,'=',11,2)\n",
      "LexToken(LOCATION,'location',11,3)\n",
      "LexToken(LPAREN,'(',11,11)\n",
      "LexToken(STRING,'\"Habana\"',11,12)\n",
      "LexToken(RPAREN,')',11,20)\n",
      "LexToken(FILTER,'filter',12,22)\n",
      "LexToken(ID,'registro',12,29)\n",
      "LexToken(BY,'by',12,38)\n",
      "LexToken(LOCATION,'location',12,41)\n",
      "LexToken(LPAREN,'(',12,49)\n",
      "LexToken(STRING,'\"Habana\"',12,50)\n",
      "LexToken(RPAREN,')',12,58)\n",
      "LexToken(COMMA,',',12,59)\n",
      "LexToken(LOCATION,'location',12,61)\n",
      "LexToken(LPAREN,'(',12,70)\n",
      "LexToken(STRING,'\"Cienfuegos\"',12,71)\n",
      "LexToken(RPAREN,')',12,83)\n",
      "LexToken(FILTER,'filter',13,85)\n",
      "LexToken(ID,'registro',13,92)\n",
      "LexToken(BY,'by',13,101)\n",
      "LexToken(ID,'a',13,104)\n"
     ]
    }
   ],
   "source": [
    "data = '''\n",
    "a=location(\"Habana\")\n",
    "filter registro by location(\"Habana\"), location (\"Cienfuegos\")\n",
    "filter registro by a \n",
    "'''\n",
    "lx.lexer.input(data)\n",
    "for tok in lx.lexer:\n",
    "    print(tok)"
   ]
  },
  {
   "cell_type": "code",
   "execution_count": 6,
   "metadata": {},
   "outputs": [
    {
     "name": "stdout",
     "output_type": "stream",
     "text": [
      "LexToken(FILTER,'filter',15,1)\n",
      "LexToken(ALL,'ALL',15,8)\n",
      "LexToken(BY,'by',15,12)\n",
      "LexToken(TIME,'time',15,15)\n",
      "LexToken(LPAREN,'(',15,19)\n",
      "LexToken(DATE,'1-1-2022',15,20)\n",
      "LexToken(COMMA,',',15,28)\n",
      "LexToken(DATE,'3-5-2022',15,30)\n",
      "LexToken(RPAREN,')',15,38)\n"
     ]
    }
   ],
   "source": [
    "data = '''\n",
    "filter ALL by time(1-1-2022, 3-5-2022)\n",
    "'''\n",
    "lx.lexer.input(data)\n",
    "for tok in lx.lexer:\n",
    "    print(tok)"
   ]
  },
  {
   "cell_type": "code",
   "execution_count": 7,
   "metadata": {},
   "outputs": [
    {
     "name": "stdout",
     "output_type": "stream",
     "text": [
      "LexToken(ID,'a',17,1)\n",
      "LexToken(PLUS,'+',17,3)\n",
      "LexToken(ID,'b',17,5)\n",
      "LexToken(DIFFER,'\\\\',17,7)\n",
      "LexToken(STRING,'\"c\"',17,9)\n",
      "LexToken(MULTIPLY,'*',17,13)\n",
      "LexToken(ID,'pi',17,15)\n"
     ]
    }
   ],
   "source": [
    "data = '''\n",
    "a + b \\ \"c\" * pi\n",
    "'''\n",
    "lx.lexer.input(data)\n",
    "for tok in lx.lexer:\n",
    "    print(tok)"
   ]
  },
  {
   "cell_type": "code",
   "execution_count": 9,
   "metadata": {},
   "outputs": [
    {
     "name": "stdout",
     "output_type": "stream",
     "text": [
      "LexToken(GROUP,'group',24,1)\n",
      "LexToken(ID,'A',24,7)\n",
      "LexToken(BY,'by',24,9)\n",
      "LexToken(LBRACE,'{',24,12)\n",
      "LexToken(MUN,'municipalities',24,13)\n",
      "LexToken(RBRACE,'}',24,27)\n",
      "LexToken(COMMA,',',24,28)\n",
      "LexToken(LBRACE,'{',24,30)\n",
      "LexToken(PROV,'provinces',24,31)\n",
      "LexToken(RBRACE,'}',24,40)\n",
      "LexToken(USER,'users',25,42)\n",
      "LexToken(LPAREN,'(',25,47)\n",
      "LexToken(ID,'B',25,48)\n",
      "LexToken(RPAREN,')',25,49)\n",
      "LexToken(COUNT,'count',26,51)\n",
      "LexToken(LPAREN,'(',26,56)\n",
      "LexToken(ID,'C',26,57)\n",
      "LexToken(RPAREN,')',26,58)\n",
      "LexToken(TOWER,'towers',27,60)\n",
      "LexToken(LPAREN,'(',27,66)\n",
      "LexToken(ID,'D',27,67)\n",
      "LexToken(RPAREN,')',27,68)\n"
     ]
    }
   ],
   "source": [
    "data = '''\n",
    "group A by {municipalities}, {provinces}\n",
    "users(B)\n",
    "count(C)\n",
    "towers(D)\n",
    "'''\n",
    "lx.lexer.input(data)\n",
    "for tok in lx.lexer:\n",
    "    print(tok)"
   ]
  }
 ],
 "metadata": {
  "kernelspec": {
   "display_name": "Python 3",
   "language": "python",
   "name": "python3"
  },
  "language_info": {
   "codemirror_mode": {
    "name": "ipython",
    "version": 3
   },
   "file_extension": ".py",
   "mimetype": "text/x-python",
   "name": "python",
   "nbconvert_exporter": "python",
   "pygments_lexer": "ipython3",
   "version": "3.9.15"
  },
  "orig_nbformat": 4,
  "vscode": {
   "interpreter": {
    "hash": "ac2eaa0ea0ebeafcc7822e65e46aa9d4f966f30b695406963e145ea4a91cd4fc"
   }
  }
 },
 "nbformat": 4,
 "nbformat_minor": 2
}
