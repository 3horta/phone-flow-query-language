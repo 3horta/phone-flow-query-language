{
 "cells": [
  {
   "cell_type": "code",
   "execution_count": 67,
   "metadata": {},
   "outputs": [],
   "source": [
    "import lexer as lx"
   ]
  },
  {
   "cell_type": "code",
   "execution_count": 60,
   "metadata": {},
   "outputs": [
    {
     "ename": "AttributeError",
     "evalue": "module 'lexer' has no attribute 'lexer'",
     "output_type": "error",
     "traceback": [
      "\u001b[0;31m---------------------------------------------------------------------------\u001b[0m",
      "\u001b[0;31mAttributeError\u001b[0m                            Traceback (most recent call last)",
      "Cell \u001b[0;32mIn [60], line 5\u001b[0m\n\u001b[1;32m      1\u001b[0m data \u001b[39m=\u001b[39m \u001b[39m'''\u001b[39m\n\u001b[1;32m      2\u001b[0m \u001b[39m3 + 4 * 10\u001b[39m\n\u001b[1;32m      3\u001b[0m \u001b[39m  + -20 *2\u001b[39m\n\u001b[1;32m      4\u001b[0m \u001b[39m'''\u001b[39m\n\u001b[0;32m----> 5\u001b[0m lx\u001b[39m.\u001b[39mlexer\u001b[39m.\u001b[39minput(data)\n\u001b[1;32m      7\u001b[0m \u001b[39mfor\u001b[39;00m tok \u001b[39min\u001b[39;00m lx\u001b[39m.\u001b[39mlexer:\n\u001b[1;32m      8\u001b[0m     \u001b[39mprint\u001b[39m(tok)\n",
      "\u001b[0;31mAttributeError\u001b[0m: module 'lexer' has no attribute 'lexer'"
     ]
    }
   ],
   "source": [
    "data = '''\n",
    "3 + 4 * 10\n",
    "  + -20 *2\n",
    "'''\n",
    "lx.lexer.input(data)\n",
    "\n",
    "for tok in lx.lexer:\n",
    "    print(tok)"
   ]
  },
  {
   "cell_type": "code",
   "execution_count": 68,
   "metadata": {},
   "outputs": [
    {
     "ename": "AttributeError",
     "evalue": "module 'lexer' has no attribute 'pe'",
     "output_type": "error",
     "traceback": [
      "\u001b[0;31m---------------------------------------------------------------------------\u001b[0m",
      "\u001b[0;31mAttributeError\u001b[0m                            Traceback (most recent call last)",
      "Cell \u001b[0;32mIn [68], line 1\u001b[0m\n\u001b[0;32m----> 1\u001b[0m lx\u001b[39m.\u001b[39mpe\n",
      "\u001b[0;31mAttributeError\u001b[0m: module 'lexer' has no attribute 'pe'"
     ]
    }
   ],
   "source": [
    "lx.pe"
   ]
  }
 ],
 "metadata": {
  "kernelspec": {
   "display_name": "Python 3.10.7 64-bit",
   "language": "python",
   "name": "python3"
  },
  "language_info": {
   "codemirror_mode": {
    "name": "ipython",
    "version": 3
   },
   "file_extension": ".py",
   "mimetype": "text/x-python",
   "name": "python",
   "nbconvert_exporter": "python",
   "pygments_lexer": "ipython3",
   "version": "3.10.7"
  },
  "orig_nbformat": 4,
  "vscode": {
   "interpreter": {
    "hash": "aee8b7b246df8f9039afb4144a1f6fd8d2ca17a180786b69acc140d282b71a49"
   }
  }
 },
 "nbformat": 4,
 "nbformat_minor": 2
}
